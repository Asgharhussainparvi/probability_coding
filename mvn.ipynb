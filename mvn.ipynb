{
 "cells": [
  {
   "cell_type": "code",
   "execution_count": 74,
   "metadata": {},
   "outputs": [],
   "source": [
    "import numpy as np\n",
    "import pandas as pd\n",
    "from scipy.stats import multivariate_normal\n",
    "from scipy.linalg import pinvh\n",
    "import matplotlib.pyplot as plt\n",
    "import seaborn as sns"
   ]
  },
  {
   "cell_type": "code",
   "execution_count": 2,
   "metadata": {},
   "outputs": [],
   "source": [
    "\n",
    "# Load dataset from CSV\n",
    "file_path = \"cars.csv\"  # Replace with your actual CSV file path\n",
    "data = pd.read_csv(file_path)\n"
   ]
  },
  {
   "cell_type": "code",
   "execution_count": 8,
   "metadata": {},
   "outputs": [],
   "source": [
    "data = data.dropna()"
   ]
  },
  {
   "cell_type": "code",
   "execution_count": 13,
   "metadata": {},
   "outputs": [],
   "source": [
    "\n",
    "# Ensure numeric columns only\n",
    "data_numeric = data.select_dtypes(include=[np.number])\n"
   ]
  },
  {
   "cell_type": "code",
   "execution_count": 14,
   "metadata": {},
   "outputs": [
    {
     "data": {
      "application/vnd.microsoft.datawrangler.viewer.v0+json": {
       "columns": [
        {
         "name": "index",
         "rawType": "int64",
         "type": "integer"
        },
        {
         "name": "year",
         "rawType": "int64",
         "type": "integer"
        },
        {
         "name": "selling_price",
         "rawType": "int64",
         "type": "integer"
        },
        {
         "name": "km_driven",
         "rawType": "int64",
         "type": "integer"
        }
       ],
       "conversionMethod": "pd.DataFrame",
       "ref": "96095032-994e-4f6f-bcfc-1e7680aff856",
       "rows": [
        [
         "0",
         "2014",
         "450000",
         "145500"
        ],
        [
         "1",
         "2014",
         "370000",
         "120000"
        ],
        [
         "2",
         "2006",
         "158000",
         "140000"
        ],
        [
         "3",
         "2010",
         "225000",
         "127000"
        ],
        [
         "4",
         "2007",
         "130000",
         "120000"
        ],
        [
         "5",
         "2017",
         "440000",
         "45000"
        ],
        [
         "6",
         "2007",
         "96000",
         "175000"
        ],
        [
         "7",
         "2001",
         "45000",
         "5000"
        ],
        [
         "8",
         "2011",
         "350000",
         "90000"
        ],
        [
         "9",
         "2013",
         "200000",
         "169000"
        ],
        [
         "10",
         "2014",
         "500000",
         "68000"
        ],
        [
         "11",
         "2005",
         "92000",
         "100000"
        ],
        [
         "12",
         "2009",
         "280000",
         "140000"
        ],
        [
         "13",
         "2007",
         "200000",
         "80000"
        ],
        [
         "14",
         "2009",
         "180000",
         "90000"
        ],
        [
         "15",
         "2016",
         "400000",
         "40000"
        ],
        [
         "16",
         "2016",
         "778000",
         "70000"
        ],
        [
         "17",
         "2012",
         "500000",
         "53000"
        ],
        [
         "18",
         "2002",
         "150000",
         "80000"
        ],
        [
         "19",
         "2016",
         "680000",
         "100000"
        ],
        [
         "20",
         "2011",
         "174000",
         "100000"
        ],
        [
         "21",
         "2017",
         "950000",
         "50000"
        ],
        [
         "22",
         "2015",
         "525000",
         "40000"
        ],
        [
         "23",
         "2012",
         "600000",
         "72000"
        ],
        [
         "24",
         "2018",
         "500000",
         "35000"
        ],
        [
         "25",
         "2016",
         "575000",
         "45000"
        ],
        [
         "26",
         "2017",
         "275000",
         "28000"
        ],
        [
         "27",
         "2013",
         "300000",
         "70000"
        ],
        [
         "28",
         "2009",
         "220000",
         "120000"
        ],
        [
         "29",
         "2018",
         "254999",
         "25000"
        ],
        [
         "30",
         "2017",
         "670000",
         "70000"
        ],
        [
         "31",
         "2003",
         "70000",
         "50000"
        ],
        [
         "32",
         "2012",
         "150000",
         "35000"
        ],
        [
         "33",
         "2018",
         "730000",
         "2388"
        ],
        [
         "34",
         "2017",
         "650000",
         "16200"
        ],
        [
         "35",
         "2019",
         "330000",
         "10000"
        ],
        [
         "36",
         "2019",
         "366000",
         "15000"
        ],
        [
         "37",
         "2019",
         "1149000",
         "5000"
        ],
        [
         "38",
         "2016",
         "150000",
         "42000"
        ],
        [
         "39",
         "2011",
         "425000",
         "60000"
        ],
        [
         "40",
         "2012",
         "150000",
         "76000"
        ],
        [
         "41",
         "2019",
         "2100000",
         "5000"
        ],
        [
         "42",
         "2018",
         "925000",
         "28900"
        ],
        [
         "43",
         "2013",
         "425000",
         "86300"
        ],
        [
         "44",
         "2018",
         "675000",
         "23300"
        ],
        [
         "45",
         "2018",
         "819999",
         "32600"
        ],
        [
         "46",
         "2018",
         "390000",
         "10300"
        ],
        [
         "47",
         "2014",
         "1500000",
         "77000"
        ],
        [
         "48",
         "2013",
         "700000",
         "99000"
        ],
        [
         "49",
         "2014",
         "1450000",
         "27800"
        ]
       ],
       "shape": {
        "columns": 3,
        "rows": 8128
       }
      },
      "text/html": [
       "<div>\n",
       "<style scoped>\n",
       "    .dataframe tbody tr th:only-of-type {\n",
       "        vertical-align: middle;\n",
       "    }\n",
       "\n",
       "    .dataframe tbody tr th {\n",
       "        vertical-align: top;\n",
       "    }\n",
       "\n",
       "    .dataframe thead th {\n",
       "        text-align: right;\n",
       "    }\n",
       "</style>\n",
       "<table border=\"1\" class=\"dataframe\">\n",
       "  <thead>\n",
       "    <tr style=\"text-align: right;\">\n",
       "      <th></th>\n",
       "      <th>year</th>\n",
       "      <th>selling_price</th>\n",
       "      <th>km_driven</th>\n",
       "    </tr>\n",
       "  </thead>\n",
       "  <tbody>\n",
       "    <tr>\n",
       "      <th>0</th>\n",
       "      <td>2014</td>\n",
       "      <td>450000</td>\n",
       "      <td>145500</td>\n",
       "    </tr>\n",
       "    <tr>\n",
       "      <th>1</th>\n",
       "      <td>2014</td>\n",
       "      <td>370000</td>\n",
       "      <td>120000</td>\n",
       "    </tr>\n",
       "    <tr>\n",
       "      <th>2</th>\n",
       "      <td>2006</td>\n",
       "      <td>158000</td>\n",
       "      <td>140000</td>\n",
       "    </tr>\n",
       "    <tr>\n",
       "      <th>3</th>\n",
       "      <td>2010</td>\n",
       "      <td>225000</td>\n",
       "      <td>127000</td>\n",
       "    </tr>\n",
       "    <tr>\n",
       "      <th>4</th>\n",
       "      <td>2007</td>\n",
       "      <td>130000</td>\n",
       "      <td>120000</td>\n",
       "    </tr>\n",
       "    <tr>\n",
       "      <th>...</th>\n",
       "      <td>...</td>\n",
       "      <td>...</td>\n",
       "      <td>...</td>\n",
       "    </tr>\n",
       "    <tr>\n",
       "      <th>8123</th>\n",
       "      <td>2013</td>\n",
       "      <td>320000</td>\n",
       "      <td>110000</td>\n",
       "    </tr>\n",
       "    <tr>\n",
       "      <th>8124</th>\n",
       "      <td>2007</td>\n",
       "      <td>135000</td>\n",
       "      <td>119000</td>\n",
       "    </tr>\n",
       "    <tr>\n",
       "      <th>8125</th>\n",
       "      <td>2009</td>\n",
       "      <td>382000</td>\n",
       "      <td>120000</td>\n",
       "    </tr>\n",
       "    <tr>\n",
       "      <th>8126</th>\n",
       "      <td>2013</td>\n",
       "      <td>290000</td>\n",
       "      <td>25000</td>\n",
       "    </tr>\n",
       "    <tr>\n",
       "      <th>8127</th>\n",
       "      <td>2013</td>\n",
       "      <td>290000</td>\n",
       "      <td>25000</td>\n",
       "    </tr>\n",
       "  </tbody>\n",
       "</table>\n",
       "<p>8128 rows × 3 columns</p>\n",
       "</div>"
      ],
      "text/plain": [
       "      year  selling_price  km_driven\n",
       "0     2014         450000     145500\n",
       "1     2014         370000     120000\n",
       "2     2006         158000     140000\n",
       "3     2010         225000     127000\n",
       "4     2007         130000     120000\n",
       "...    ...            ...        ...\n",
       "8123  2013         320000     110000\n",
       "8124  2007         135000     119000\n",
       "8125  2009         382000     120000\n",
       "8126  2013         290000      25000\n",
       "8127  2013         290000      25000\n",
       "\n",
       "[8128 rows x 3 columns]"
      ]
     },
     "execution_count": 14,
     "metadata": {},
     "output_type": "execute_result"
    }
   ],
   "source": [
    "data_numeric "
   ]
  },
  {
   "cell_type": "code",
   "execution_count": 53,
   "metadata": {},
   "outputs": [],
   "source": [
    "\n",
    "# Compute mean and covariance matrix\n",
    "mean_vector = data_numeric.mean().values\n",
    "cov_matrix = data_numeric.cov().values\n"
   ]
  },
  {
   "cell_type": "code",
   "execution_count": 61,
   "metadata": {},
   "outputs": [
    {
     "data": {
      "text/plain": [
       "array([[ 1.63559480e+01,  1.35022491e+06, -9.55997512e+04],\n",
       "       [ 1.35022491e+06,  6.50044551e+11, -1.02830035e+10],\n",
       "       [-9.55997512e+04, -1.02830035e+10,  3.19796527e+09]])"
      ]
     },
     "execution_count": 61,
     "metadata": {},
     "output_type": "execute_result"
    }
   ],
   "source": [
    "cov_matrix"
   ]
  },
  {
   "cell_type": "code",
   "execution_count": 66,
   "metadata": {},
   "outputs": [],
   "source": [
    "epsilon = 1e-1 # Small regularization term\n",
    "cov_matrix += np.eye(cov_matrix.shape[0]) + epsilon"
   ]
  },
  {
   "cell_type": "code",
   "execution_count": 67,
   "metadata": {},
   "outputs": [
    {
     "data": {
      "text/plain": [
       "array([[2.10001736e+00, 1.00001000e-01, 1.00001000e-01],\n",
       "       [1.00001000e-01, 6.50046651e+05, 1.00001000e-01],\n",
       "       [1.00001000e-01, 1.00001000e-01, 3.20006527e+03]])"
      ]
     },
     "execution_count": 67,
     "metadata": {},
     "output_type": "execute_result"
    }
   ],
   "source": [
    "cov_matrix"
   ]
  },
  {
   "cell_type": "code",
   "execution_count": 16,
   "metadata": {},
   "outputs": [
    {
     "data": {
      "text/plain": [
       "array([  2013.80401083, 638271.80770177,  69819.51082677])"
      ]
     },
     "execution_count": 16,
     "metadata": {},
     "output_type": "execute_result"
    }
   ],
   "source": [
    "mean_vector"
   ]
  },
  {
   "cell_type": "code",
   "execution_count": 75,
   "metadata": {},
   "outputs": [
    {
     "data": {
      "image/png": "[encoded data removed]",
      "text/plain": [
       "<Figure size 800x600 with 1 Axes>"
      ]
     },
     "metadata": {},
     "output_type": "display_data"
    }
   ],
   "source": [
    "# 📌 Scatter Plot for Two Features\n",
    "plt.figure(figsize=(8, 6))\n",
    "sns.scatterplot(x=data_numeric.iloc[:, 0], y=data_numeric.iloc[:, 1], alpha=0.6, edgecolor=None)\n",
    "plt.xlabel(data_numeric.columns[0])\n",
    "plt.ylabel(data_numeric.columns[1])\n",
    "plt.title(\"Scatter Plot of Two Features\")\n",
    "plt.show()"
   ]
  },
  {
   "cell_type": "code",
   "execution_count": 98,
   "metadata": {},
   "outputs": [
    {
     "data": {
      "image/png": "[encoded data removed]",
      "text/plain": [
       "<Figure size 800x600 with 1 Axes>"
      ]
     },
     "metadata": {},
     "output_type": "display_data"
    }
   ],
   "source": [
    "# 📌 Scatter Plot for Two Features\n",
    "plt.figure(figsize=(8, 6))\n",
    "sns.scatterplot(x=data_numeric['year'], y=data_numeric['km_driven'], alpha=0.6, edgecolor=None)\n",
    "plt.xlabel(data_numeric.columns[0])\n",
    "plt.ylabel(data_numeric.columns[1])\n",
    "plt.title(\"Scatter Plot of Two Features\")\n",
    "plt.show()"
   ]
  },
  {
   "cell_type": "code",
   "execution_count": 89,
   "metadata": {},
   "outputs": [],
   "source": [
    "# # 📌 Pairplot (Scatter Matrix) for All Numeric Features\n",
    "# sns.pairplot(data_numeric, diag_kind=\"kde\")  # KDE for diagonal distribution\n",
    "# plt.show()"
   ]
  },
  {
   "cell_type": "code",
   "execution_count": 90,
   "metadata": {},
   "outputs": [],
   "source": [
    "# # 📌 Hexbin Plot (Density Visualization)\n",
    "# plt.figure(figsize=(8, 6))\n",
    "# plt.hexbin(data_numeric.iloc[:, 0], data_numeric.iloc[:, 1], gridsize=30, cmap=\"Blues\")\n",
    "# plt.colorbar(label=\"Density\")\n",
    "# plt.xlabel(data_numeric.columns[0])\n",
    "# plt.ylabel(data_numeric.columns[1])\n",
    "# plt.title(\"Hexbin Plot of Data Density\")\n",
    "# plt.show()"
   ]
  },
  {
   "cell_type": "code",
   "execution_count": 108,
   "metadata": {},
   "outputs": [],
   "source": [
    "\n",
    "# Define a sample data point (Replace with your actual point)\n",
    "sample_point = np.array([2013.80401083 ,638271.80770177 , 69819.51082677])  # Adjust dimensions as per your dataset\n"
   ]
  },
  {
   "cell_type": "code",
   "execution_count": 109,
   "metadata": {},
   "outputs": [],
   "source": [
    "\n",
    "# Compute the probability density of the sample point under MVN\n",
    "mvn_distribution = multivariate_normal(mean=mean_vector, cov=cov_matrix)\n",
    "sample_point_density = mvn_distribution.pdf(sample_point)\n",
    "   "
   ]
  },
  {
   "cell_type": "code",
   "execution_count": 110,
   "metadata": {},
   "outputs": [
    {
     "data": {
      "text/plain": [
       "np.float64(9.60654894135091e-07)"
      ]
     },
     "execution_count": 110,
     "metadata": {},
     "output_type": "execute_result"
    }
   ],
   "source": [
    "sample_point_density"
   ]
  },
  {
   "cell_type": "code",
   "execution_count": 104,
   "metadata": {},
   "outputs": [
    {
     "name": "stdout",
     "output_type": "stream",
     "text": [
      "Mean Vector:\n",
      " [  2013.80401083 638271.80770177  69819.51082677]\n",
      "Covariance Matrix:\n",
      " [[2.10001736e+00 1.00001000e-01 1.00001000e-01]\n",
      " [1.00001000e-01 6.50046651e+05 1.00001000e-01]\n",
      " [1.00001000e-01 1.00001000e-01 3.20006527e+03]]\n",
      "Probability of sample point [  2013 600000  70000]: -1145.7352478820897\n"
     ]
    }
   ],
   "source": [
    "\n",
    "# Print results\n",
    "print(\"Mean Vector:\\n\", mean_vector)\n",
    "print(\"Covariance Matrix:\\n\", cov_matrix)\n",
    "print(f\"Probability of sample point {sample_point}: {log_prob}\")"
   ]
  },
  {
   "cell_type": "code",
   "execution_count": null,
   "metadata": {},
   "outputs": [],
   "source": []
  }
 ],
 "metadata": {
  "kernelspec": {
   "display_name": "env",
   "language": "python",
   "name": "python3"
  },
  "language_info": {
   "codemirror_mode": {
    "name": "ipython",
    "version": 3
   },
   "file_extension": ".py",
   "mimetype": "text/x-python",
   "name": "python",
   "nbconvert_exporter": "python",
   "pygments_lexer": "ipython3",
   "version": "3.13.2"
  }
 },
 "nbformat": 4,
 "nbformat_minor": 2
}
