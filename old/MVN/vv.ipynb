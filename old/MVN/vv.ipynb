{
 "cells": [
  {
   "cell_type": "code",
   "execution_count": 1,
   "metadata": {},
   "outputs": [],
   "source": [
    "# import numpy as np\n",
    "# import pandas as pd\n",
    "# import matplotlib.pyplot as plt\n",
    "# from scipy.stats import multivariate_normal\n",
    "\n",
    "# # Load the dataset\n",
    "# cars_df = pd.read_csv(\"cars.csv\")\n",
    "\n",
    "# # Select numerical columns\n",
    "# columns = [\"year\", \"selling_price\", \"km_driven\"]\n",
    "# data = cars_df[columns]\n",
    "\n",
    "# # Normalize the data for better distribution fitting\n",
    "# data = (data - data.mean()) / data.std()\n",
    "\n",
    "# # Compute mean and covariance matrix\n",
    "# mean = data.mean().values\n",
    "# cov = data.cov().values\n",
    "\n",
    "# # Fit multivariate normal distribution\n",
    "# mv_norm = multivariate_normal(mean, cov)\n",
    "\n",
    "# # Generate probability for a sample point (example: mean values)\n",
    "# prob = mv_norm.pdf(mean)\n",
    "# print(f\"Probability density at mean point: {prob}\")\n",
    "\n",
    "# # Generate random samples\n",
    "# samples = mv_norm.rvs(size=500)\n",
    "\n",
    "# # Plot 3D scatter plot\n",
    "# fig = plt.figure(figsize=(8, 6))\n",
    "# ax = fig.add_subplot(111, projection='3d')\n",
    "# scatter = ax.scatter(samples[:, 0], samples[:, 1], samples[:, 2], alpha=0.6, label=\"Generated Samples\")\n",
    "# ax.set_title(\"3D Multivariate Normal Distribution (Cars Data)\")\n",
    "# ax.set_xlabel(\"Year\")\n",
    "# ax.set_ylabel(\"Selling Price\")\n",
    "# ax.set_zlabel(\"Km Driven\")\n",
    "# plt.show()\n"
   ]
  },
  {
   "cell_type": "code",
   "execution_count": 3,
   "metadata": {},
   "outputs": [],
   "source": [
    "import numpy as np\n",
    "import pandas as pd\n",
    "import matplotlib.pyplot as plt\n",
    "import scipy.stats as stats"
   ]
  },
  {
   "cell_type": "code",
   "execution_count": 5,
   "metadata": {},
   "outputs": [],
   "source": [
    "df = pd.read_csv('cars.csv')"
   ]
  },
  {
   "cell_type": "code",
   "execution_count": 6,
   "metadata": {},
   "outputs": [
    {
     "data": {
      "application/vnd.microsoft.datawrangler.viewer.v0+json": {
       "columns": [
        {
         "name": "index",
         "rawType": "int64",
         "type": "integer"
        },
        {
         "name": "name",
         "rawType": "object",
         "type": "string"
        },
        {
         "name": "year",
         "rawType": "int64",
         "type": "integer"
        },
        {
         "name": "selling_price",
         "rawType": "int64",
         "type": "integer"
        },
        {
         "name": "km_driven",
         "rawType": "int64",
         "type": "integer"
        },
        {
         "name": "fuel",
         "rawType": "object",
         "type": "string"
        },
        {
         "name": "seller_type",
         "rawType": "object",
         "type": "string"
        },
        {
         "name": "transmission",
         "rawType": "object",
         "type": "string"
        },
        {
         "name": "owner",
         "rawType": "object",
         "type": "string"
        }
       ],
       "conversionMethod": "pd.DataFrame",
       "ref": "e37a410c-4ce1-4f91-9550-31e8ace47b80",
       "rows": [
        [
         "0",
         "Maruti Swift Dzire VDI",
         "2014",
         "450000",
         "145500",
         "Diesel",
         "Individual",
         "Manual",
         "First Owner"
        ]
       ],
       "shape": {
        "columns": 8,
        "rows": 1
       }
      },
      "text/html": [
       "<div>\n",
       "<style scoped>\n",
       "    .dataframe tbody tr th:only-of-type {\n",
       "        vertical-align: middle;\n",
       "    }\n",
       "\n",
       "    .dataframe tbody tr th {\n",
       "        vertical-align: top;\n",
       "    }\n",
       "\n",
       "    .dataframe thead th {\n",
       "        text-align: right;\n",
       "    }\n",
       "</style>\n",
       "<table border=\"1\" class=\"dataframe\">\n",
       "  <thead>\n",
       "    <tr style=\"text-align: right;\">\n",
       "      <th></th>\n",
       "      <th>name</th>\n",
       "      <th>year</th>\n",
       "      <th>selling_price</th>\n",
       "      <th>km_driven</th>\n",
       "      <th>fuel</th>\n",
       "      <th>seller_type</th>\n",
       "      <th>transmission</th>\n",
       "      <th>owner</th>\n",
       "    </tr>\n",
       "  </thead>\n",
       "  <tbody>\n",
       "    <tr>\n",
       "      <th>0</th>\n",
       "      <td>Maruti Swift Dzire VDI</td>\n",
       "      <td>2014</td>\n",
       "      <td>450000</td>\n",
       "      <td>145500</td>\n",
       "      <td>Diesel</td>\n",
       "      <td>Individual</td>\n",
       "      <td>Manual</td>\n",
       "      <td>First Owner</td>\n",
       "    </tr>\n",
       "  </tbody>\n",
       "</table>\n",
       "</div>"
      ],
      "text/plain": [
       "                     name  year  selling_price  km_driven    fuel seller_type  \\\n",
       "0  Maruti Swift Dzire VDI  2014         450000     145500  Diesel  Individual   \n",
       "\n",
       "  transmission        owner  \n",
       "0       Manual  First Owner  "
      ]
     },
     "execution_count": 6,
     "metadata": {},
     "output_type": "execute_result"
    }
   ],
   "source": [
    "df.head(1)"
   ]
  },
  {
   "cell_type": "code",
   "execution_count": 7,
   "metadata": {},
   "outputs": [],
   "source": [
    "num_values = ['year','selling_price','km_driven']"
   ]
  },
  {
   "cell_type": "code",
   "execution_count": 14,
   "metadata": {},
   "outputs": [],
   "source": [
    "data = df[num_values]"
   ]
  },
  {
   "cell_type": "code",
   "execution_count": 15,
   "metadata": {},
   "outputs": [],
   "source": [
    "data = (data-data.mean())/data.std()"
   ]
  },
  {
   "cell_type": "code",
   "execution_count": 16,
   "metadata": {},
   "outputs": [],
   "source": [
    "means = data.mean()"
   ]
  },
  {
   "cell_type": "code",
   "execution_count": 17,
   "metadata": {},
   "outputs": [],
   "source": [
    "covs = data.cov()"
   ]
  },
  {
   "cell_type": "code",
   "execution_count": 18,
   "metadata": {},
   "outputs": [],
   "source": [
    "mvn = stats.multivariate_normal(means,covs)"
   ]
  },
  {
   "cell_type": "code",
   "execution_count": 19,
   "metadata": {},
   "outputs": [
    {
     "name": "stdout",
     "output_type": "stream",
     "text": [
      "Probability density at mean point: 0.07694020714863115\n"
     ]
    }
   ],
   "source": [
    "prob = mvn.pdf(means)\n",
    "print(f\"Probability density at mean point: {prob}\")"
   ]
  },
  {
   "cell_type": "code",
   "execution_count": null,
   "metadata": {},
   "outputs": [],
   "source": []
  }
 ],
 "metadata": {
  "kernelspec": {
   "display_name": "env",
   "language": "python",
   "name": "python3"
  },
  "language_info": {
   "codemirror_mode": {
    "name": "ipython",
    "version": 3
   },
   "file_extension": ".py",
   "mimetype": "text/x-python",
   "name": "python",
   "nbconvert_exporter": "python",
   "pygments_lexer": "ipython3",
   "version": "3.13.2"
  }
 },
 "nbformat": 4,
 "nbformat_minor": 2
}
