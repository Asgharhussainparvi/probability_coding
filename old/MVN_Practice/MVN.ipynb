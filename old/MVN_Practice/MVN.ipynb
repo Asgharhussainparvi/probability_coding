{
 "cells": [
  {
   "cell_type": "code",
   "execution_count": 3,
   "id": "1bae4dfc",
   "metadata": {},
   "outputs": [
    {
     "name": "stderr",
     "output_type": "stream",
     "text": [
      "C:\\Users\\1212a\\AppData\\Local\\Temp\\ipykernel_7808\\3961916528.py:3: DtypeWarning: Columns (9) have mixed types. Specify dtype option on import or set low_memory=False.\n",
      "  df = pd.read_csv('diabetes_prediction_dataset.csv')\n"
     ]
    },
    {
     "data": {
      "application/vnd.microsoft.datawrangler.viewer.v0+json": {
       "columns": [
        {
         "name": "index",
         "rawType": "int64",
         "type": "integer"
        },
        {
         "name": "gender",
         "rawType": "object",
         "type": "string"
        },
        {
         "name": "age",
         "rawType": "float64",
         "type": "float"
        },
        {
         "name": "hypertension",
         "rawType": "float64",
         "type": "float"
        },
        {
         "name": "heart_disease",
         "rawType": "float64",
         "type": "float"
        },
        {
         "name": "smoking_history",
         "rawType": "object",
         "type": "string"
        },
        {
         "name": "bmi",
         "rawType": "float64",
         "type": "float"
        },
        {
         "name": "HbA1c_level",
         "rawType": "float64",
         "type": "float"
        },
        {
         "name": "blood_glucose_level",
         "rawType": "float64",
         "type": "float"
        },
        {
         "name": "diabetes",
         "rawType": "float64",
         "type": "float"
        },
        {
         "name": "Unnamed: 9",
         "rawType": "object",
         "type": "unknown"
        }
       ],
       "conversionMethod": "pd.DataFrame",
       "ref": "d5e33914-2817-4591-9099-da20b8b986ef",
       "rows": [
        [
         "0",
         "Female",
         "80.0",
         "0.0",
         "1.0",
         "never",
         "25.19",
         "6.6",
         "140.0",
         "0.0",
         null
        ],
        [
         "1",
         "Female",
         "54.0",
         "0.0",
         "0.0",
         "No Info",
         "27.32",
         "6.6",
         "80.0",
         "0.0",
         null
        ],
        [
         "2",
         "Male",
         "28.0",
         "0.0",
         "0.0",
         "never",
         "27.32",
         "5.7",
         "158.0",
         "0.0",
         null
        ],
        [
         "3",
         "Female",
         "36.0",
         "0.0",
         "0.0",
         "current",
         "23.45",
         "5.0",
         "155.0",
         "0.0",
         null
        ],
        [
         "4",
         "Male",
         "76.0",
         "1.0",
         "1.0",
         "current",
         "20.14",
         "4.8",
         "155.0",
         "0.0",
         null
        ]
       ],
       "shape": {
        "columns": 10,
        "rows": 5
       }
      },
      "text/html": [
       "<div>\n",
       "<style scoped>\n",
       "    .dataframe tbody tr th:only-of-type {\n",
       "        vertical-align: middle;\n",
       "    }\n",
       "\n",
       "    .dataframe tbody tr th {\n",
       "        vertical-align: top;\n",
       "    }\n",
       "\n",
       "    .dataframe thead th {\n",
       "        text-align: right;\n",
       "    }\n",
       "</style>\n",
       "<table border=\"1\" class=\"dataframe\">\n",
       "  <thead>\n",
       "    <tr style=\"text-align: right;\">\n",
       "      <th></th>\n",
       "      <th>gender</th>\n",
       "      <th>age</th>\n",
       "      <th>hypertension</th>\n",
       "      <th>heart_disease</th>\n",
       "      <th>smoking_history</th>\n",
       "      <th>bmi</th>\n",
       "      <th>HbA1c_level</th>\n",
       "      <th>blood_glucose_level</th>\n",
       "      <th>diabetes</th>\n",
       "      <th>Unnamed: 9</th>\n",
       "    </tr>\n",
       "  </thead>\n",
       "  <tbody>\n",
       "    <tr>\n",
       "      <th>0</th>\n",
       "      <td>Female</td>\n",
       "      <td>80.0</td>\n",
       "      <td>0.0</td>\n",
       "      <td>1.0</td>\n",
       "      <td>never</td>\n",
       "      <td>25.19</td>\n",
       "      <td>6.6</td>\n",
       "      <td>140.0</td>\n",
       "      <td>0.0</td>\n",
       "      <td>NaN</td>\n",
       "    </tr>\n",
       "    <tr>\n",
       "      <th>1</th>\n",
       "      <td>Female</td>\n",
       "      <td>54.0</td>\n",
       "      <td>0.0</td>\n",
       "      <td>0.0</td>\n",
       "      <td>No Info</td>\n",
       "      <td>27.32</td>\n",
       "      <td>6.6</td>\n",
       "      <td>80.0</td>\n",
       "      <td>0.0</td>\n",
       "      <td>NaN</td>\n",
       "    </tr>\n",
       "    <tr>\n",
       "      <th>2</th>\n",
       "      <td>Male</td>\n",
       "      <td>28.0</td>\n",
       "      <td>0.0</td>\n",
       "      <td>0.0</td>\n",
       "      <td>never</td>\n",
       "      <td>27.32</td>\n",
       "      <td>5.7</td>\n",
       "      <td>158.0</td>\n",
       "      <td>0.0</td>\n",
       "      <td>NaN</td>\n",
       "    </tr>\n",
       "    <tr>\n",
       "      <th>3</th>\n",
       "      <td>Female</td>\n",
       "      <td>36.0</td>\n",
       "      <td>0.0</td>\n",
       "      <td>0.0</td>\n",
       "      <td>current</td>\n",
       "      <td>23.45</td>\n",
       "      <td>5.0</td>\n",
       "      <td>155.0</td>\n",
       "      <td>0.0</td>\n",
       "      <td>NaN</td>\n",
       "    </tr>\n",
       "    <tr>\n",
       "      <th>4</th>\n",
       "      <td>Male</td>\n",
       "      <td>76.0</td>\n",
       "      <td>1.0</td>\n",
       "      <td>1.0</td>\n",
       "      <td>current</td>\n",
       "      <td>20.14</td>\n",
       "      <td>4.8</td>\n",
       "      <td>155.0</td>\n",
       "      <td>0.0</td>\n",
       "      <td>NaN</td>\n",
       "    </tr>\n",
       "  </tbody>\n",
       "</table>\n",
       "</div>"
      ],
      "text/plain": [
       "   gender   age  hypertension  heart_disease smoking_history    bmi  \\\n",
       "0  Female  80.0           0.0            1.0           never  25.19   \n",
       "1  Female  54.0           0.0            0.0         No Info  27.32   \n",
       "2    Male  28.0           0.0            0.0           never  27.32   \n",
       "3  Female  36.0           0.0            0.0         current  23.45   \n",
       "4    Male  76.0           1.0            1.0         current  20.14   \n",
       "\n",
       "   HbA1c_level  blood_glucose_level  diabetes Unnamed: 9  \n",
       "0          6.6                140.0       0.0        NaN  \n",
       "1          6.6                 80.0       0.0        NaN  \n",
       "2          5.7                158.0       0.0        NaN  \n",
       "3          5.0                155.0       0.0        NaN  \n",
       "4          4.8                155.0       0.0        NaN  "
      ]
     },
     "execution_count": 3,
     "metadata": {},
     "output_type": "execute_result"
    }
   ],
   "source": [
    "import pandas as pd\n",
    "import matplotlib.pyplot as plt\n",
    "df = pd.read_csv('diabetes_prediction_dataset.csv')\n",
    "df.head()"
   ]
  },
  {
   "cell_type": "code",
   "execution_count": 4,
   "id": "20a6250a",
   "metadata": {},
   "outputs": [
    {
     "name": "stdout",
     "output_type": "stream",
     "text": [
      "<class 'pandas.core.frame.DataFrame'>\n",
      "RangeIndex: 100003 entries, 0 to 100002\n",
      "Data columns (total 10 columns):\n",
      " #   Column               Non-Null Count   Dtype  \n",
      "---  ------               --------------   -----  \n",
      " 0   gender               100000 non-null  object \n",
      " 1   age                  100003 non-null  float64\n",
      " 2   hypertension         100003 non-null  float64\n",
      " 3   heart_disease        100003 non-null  float64\n",
      " 4   smoking_history      100003 non-null  object \n",
      " 5   bmi                  100003 non-null  float64\n",
      " 6   HbA1c_level          100003 non-null  float64\n",
      " 7   blood_glucose_level  100003 non-null  float64\n",
      " 8   diabetes             100000 non-null  float64\n",
      " 9   Unnamed: 9           3 non-null       object \n",
      "dtypes: float64(7), object(3)\n",
      "memory usage: 7.6+ MB\n"
     ]
    }
   ],
   "source": [
    "df.info()"
   ]
  },
  {
   "cell_type": "code",
   "execution_count": 5,
   "id": "6e5dea53",
   "metadata": {},
   "outputs": [
    {
     "data": {
      "text/plain": [
       "diabetes\n",
       "0.0    91500\n",
       "1.0     8500\n",
       "Name: count, dtype: int64"
      ]
     },
     "execution_count": 5,
     "metadata": {},
     "output_type": "execute_result"
    }
   ],
   "source": [
    "df['diabetes'].value_counts()"
   ]
  },
  {
   "cell_type": "code",
   "execution_count": 6,
   "id": "1d2494aa",
   "metadata": {},
   "outputs": [
    {
     "data": {
      "image/png": "[encoded data removed]",
      "text/plain": [
       "<Figure size 1000x700 with 1 Axes>"
      ]
     },
     "metadata": {},
     "output_type": "display_data"
    }
   ],
   "source": [
    "import matplotlib.pyplot as plt\n",
    "x = df['diabetes'].groupby(df['diabetes']).count()\n",
    "plt.figure(figsize=(10,7))\n",
    "plt.title(\"Pie Plot of Diabetic vs Non Diabetic\")\n",
    "plt.pie(x, labels = [\"Non-Diabetic\",\"Diabetic\"], explode = [0,0.1], autopct = '%1.2f%%')\n",
    "plt.legend()\n",
    "plt.show()"
   ]
  },
  {
   "cell_type": "code",
   "execution_count": 7,
   "id": "f396b386",
   "metadata": {},
   "outputs": [],
   "source": [
    "df_1 = df[df['diabetes'] == 1]\n",
    "df_1.to_csv('Patients with Diabeties')\n",
    "\n",
    "df_2 = df[df['diabetes'] == 0]\n",
    "df_2.to_csv('Patients without Diabeties')"
   ]
  },
  {
   "cell_type": "code",
   "execution_count": 8,
   "id": "bbbf8cc4",
   "metadata": {},
   "outputs": [
    {
     "data": {
      "application/vnd.microsoft.datawrangler.viewer.v0+json": {
       "columns": [
        {
         "name": "index",
         "rawType": "int64",
         "type": "integer"
        },
        {
         "name": "gender",
         "rawType": "object",
         "type": "string"
        },
        {
         "name": "age",
         "rawType": "float64",
         "type": "float"
        },
        {
         "name": "hypertension",
         "rawType": "float64",
         "type": "float"
        },
        {
         "name": "heart_disease",
         "rawType": "float64",
         "type": "float"
        },
        {
         "name": "smoking_history",
         "rawType": "object",
         "type": "string"
        },
        {
         "name": "bmi",
         "rawType": "float64",
         "type": "float"
        },
        {
         "name": "HbA1c_level",
         "rawType": "float64",
         "type": "float"
        },
        {
         "name": "blood_glucose_level",
         "rawType": "float64",
         "type": "float"
        },
        {
         "name": "diabetes",
         "rawType": "float64",
         "type": "float"
        },
        {
         "name": "Unnamed: 9",
         "rawType": "object",
         "type": "unknown"
        }
       ],
       "conversionMethod": "pd.DataFrame",
       "ref": "7d3aed47-2873-46e1-97a4-c1bb1611750a",
       "rows": [
        [
         "6",
         "Female",
         "44.0",
         "0.0",
         "0.0",
         "never",
         "19.31",
         "6.5",
         "200.0",
         "1.0",
         null
        ],
        [
         "26",
         "Male",
         "67.0",
         "0.0",
         "1.0",
         "not current",
         "27.32",
         "6.5",
         "200.0",
         "1.0",
         null
        ],
        [
         "38",
         "Male",
         "50.0",
         "1.0",
         "0.0",
         "current",
         "27.32",
         "5.7",
         "260.0",
         "1.0",
         null
        ],
        [
         "40",
         "Male",
         "73.0",
         "0.0",
         "0.0",
         "former",
         "25.91",
         "9.0",
         "160.0",
         "1.0",
         null
        ],
        [
         "53",
         "Female",
         "53.0",
         "0.0",
         "0.0",
         "former",
         "27.32",
         "7.0",
         "159.0",
         "1.0",
         null
        ]
       ],
       "shape": {
        "columns": 10,
        "rows": 5
       }
      },
      "text/html": [
       "<div>\n",
       "<style scoped>\n",
       "    .dataframe tbody tr th:only-of-type {\n",
       "        vertical-align: middle;\n",
       "    }\n",
       "\n",
       "    .dataframe tbody tr th {\n",
       "        vertical-align: top;\n",
       "    }\n",
       "\n",
       "    .dataframe thead th {\n",
       "        text-align: right;\n",
       "    }\n",
       "</style>\n",
       "<table border=\"1\" class=\"dataframe\">\n",
       "  <thead>\n",
       "    <tr style=\"text-align: right;\">\n",
       "      <th></th>\n",
       "      <th>gender</th>\n",
       "      <th>age</th>\n",
       "      <th>hypertension</th>\n",
       "      <th>heart_disease</th>\n",
       "      <th>smoking_history</th>\n",
       "      <th>bmi</th>\n",
       "      <th>HbA1c_level</th>\n",
       "      <th>blood_glucose_level</th>\n",
       "      <th>diabetes</th>\n",
       "      <th>Unnamed: 9</th>\n",
       "    </tr>\n",
       "  </thead>\n",
       "  <tbody>\n",
       "    <tr>\n",
       "      <th>6</th>\n",
       "      <td>Female</td>\n",
       "      <td>44.0</td>\n",
       "      <td>0.0</td>\n",
       "      <td>0.0</td>\n",
       "      <td>never</td>\n",
       "      <td>19.31</td>\n",
       "      <td>6.5</td>\n",
       "      <td>200.0</td>\n",
       "      <td>1.0</td>\n",
       "      <td>NaN</td>\n",
       "    </tr>\n",
       "    <tr>\n",
       "      <th>26</th>\n",
       "      <td>Male</td>\n",
       "      <td>67.0</td>\n",
       "      <td>0.0</td>\n",
       "      <td>1.0</td>\n",
       "      <td>not current</td>\n",
       "      <td>27.32</td>\n",
       "      <td>6.5</td>\n",
       "      <td>200.0</td>\n",
       "      <td>1.0</td>\n",
       "      <td>NaN</td>\n",
       "    </tr>\n",
       "    <tr>\n",
       "      <th>38</th>\n",
       "      <td>Male</td>\n",
       "      <td>50.0</td>\n",
       "      <td>1.0</td>\n",
       "      <td>0.0</td>\n",
       "      <td>current</td>\n",
       "      <td>27.32</td>\n",
       "      <td>5.7</td>\n",
       "      <td>260.0</td>\n",
       "      <td>1.0</td>\n",
       "      <td>NaN</td>\n",
       "    </tr>\n",
       "    <tr>\n",
       "      <th>40</th>\n",
       "      <td>Male</td>\n",
       "      <td>73.0</td>\n",
       "      <td>0.0</td>\n",
       "      <td>0.0</td>\n",
       "      <td>former</td>\n",
       "      <td>25.91</td>\n",
       "      <td>9.0</td>\n",
       "      <td>160.0</td>\n",
       "      <td>1.0</td>\n",
       "      <td>NaN</td>\n",
       "    </tr>\n",
       "    <tr>\n",
       "      <th>53</th>\n",
       "      <td>Female</td>\n",
       "      <td>53.0</td>\n",
       "      <td>0.0</td>\n",
       "      <td>0.0</td>\n",
       "      <td>former</td>\n",
       "      <td>27.32</td>\n",
       "      <td>7.0</td>\n",
       "      <td>159.0</td>\n",
       "      <td>1.0</td>\n",
       "      <td>NaN</td>\n",
       "    </tr>\n",
       "  </tbody>\n",
       "</table>\n",
       "</div>"
      ],
      "text/plain": [
       "    gender   age  hypertension  heart_disease smoking_history    bmi  \\\n",
       "6   Female  44.0           0.0            0.0           never  19.31   \n",
       "26    Male  67.0           0.0            1.0     not current  27.32   \n",
       "38    Male  50.0           1.0            0.0         current  27.32   \n",
       "40    Male  73.0           0.0            0.0          former  25.91   \n",
       "53  Female  53.0           0.0            0.0          former  27.32   \n",
       "\n",
       "    HbA1c_level  blood_glucose_level  diabetes Unnamed: 9  \n",
       "6           6.5                200.0       1.0        NaN  \n",
       "26          6.5                200.0       1.0        NaN  \n",
       "38          5.7                260.0       1.0        NaN  \n",
       "40          9.0                160.0       1.0        NaN  \n",
       "53          7.0                159.0       1.0        NaN  "
      ]
     },
     "execution_count": 8,
     "metadata": {},
     "output_type": "execute_result"
    }
   ],
   "source": [
    "df_1.head()"
   ]
  },
  {
   "cell_type": "code",
   "execution_count": 9,
   "id": "1387d0bb",
   "metadata": {},
   "outputs": [
    {
     "data": {
      "application/vnd.microsoft.datawrangler.viewer.v0+json": {
       "columns": [
        {
         "name": "index",
         "rawType": "int64",
         "type": "integer"
        },
        {
         "name": "gender",
         "rawType": "object",
         "type": "string"
        },
        {
         "name": "age",
         "rawType": "float64",
         "type": "float"
        },
        {
         "name": "hypertension",
         "rawType": "float64",
         "type": "float"
        },
        {
         "name": "heart_disease",
         "rawType": "float64",
         "type": "float"
        },
        {
         "name": "smoking_history",
         "rawType": "object",
         "type": "string"
        },
        {
         "name": "bmi",
         "rawType": "float64",
         "type": "float"
        },
        {
         "name": "HbA1c_level",
         "rawType": "float64",
         "type": "float"
        },
        {
         "name": "blood_glucose_level",
         "rawType": "float64",
         "type": "float"
        },
        {
         "name": "diabetes",
         "rawType": "float64",
         "type": "float"
        },
        {
         "name": "Unnamed: 9",
         "rawType": "object",
         "type": "unknown"
        }
       ],
       "conversionMethod": "pd.DataFrame",
       "ref": "bb62aebd-bf10-4a26-a8bf-c3d671af29fe",
       "rows": [
        [
         "0",
         "Female",
         "80.0",
         "0.0",
         "1.0",
         "never",
         "25.19",
         "6.6",
         "140.0",
         "0.0",
         null
        ],
        [
         "1",
         "Female",
         "54.0",
         "0.0",
         "0.0",
         "No Info",
         "27.32",
         "6.6",
         "80.0",
         "0.0",
         null
        ],
        [
         "2",
         "Male",
         "28.0",
         "0.0",
         "0.0",
         "never",
         "27.32",
         "5.7",
         "158.0",
         "0.0",
         null
        ],
        [
         "3",
         "Female",
         "36.0",
         "0.0",
         "0.0",
         "current",
         "23.45",
         "5.0",
         "155.0",
         "0.0",
         null
        ],
        [
         "4",
         "Male",
         "76.0",
         "1.0",
         "1.0",
         "current",
         "20.14",
         "4.8",
         "155.0",
         "0.0",
         null
        ]
       ],
       "shape": {
        "columns": 10,
        "rows": 5
       }
      },
      "text/html": [
       "<div>\n",
       "<style scoped>\n",
       "    .dataframe tbody tr th:only-of-type {\n",
       "        vertical-align: middle;\n",
       "    }\n",
       "\n",
       "    .dataframe tbody tr th {\n",
       "        vertical-align: top;\n",
       "    }\n",
       "\n",
       "    .dataframe thead th {\n",
       "        text-align: right;\n",
       "    }\n",
       "</style>\n",
       "<table border=\"1\" class=\"dataframe\">\n",
       "  <thead>\n",
       "    <tr style=\"text-align: right;\">\n",
       "      <th></th>\n",
       "      <th>gender</th>\n",
       "      <th>age</th>\n",
       "      <th>hypertension</th>\n",
       "      <th>heart_disease</th>\n",
       "      <th>smoking_history</th>\n",
       "      <th>bmi</th>\n",
       "      <th>HbA1c_level</th>\n",
       "      <th>blood_glucose_level</th>\n",
       "      <th>diabetes</th>\n",
       "      <th>Unnamed: 9</th>\n",
       "    </tr>\n",
       "  </thead>\n",
       "  <tbody>\n",
       "    <tr>\n",
       "      <th>0</th>\n",
       "      <td>Female</td>\n",
       "      <td>80.0</td>\n",
       "      <td>0.0</td>\n",
       "      <td>1.0</td>\n",
       "      <td>never</td>\n",
       "      <td>25.19</td>\n",
       "      <td>6.6</td>\n",
       "      <td>140.0</td>\n",
       "      <td>0.0</td>\n",
       "      <td>NaN</td>\n",
       "    </tr>\n",
       "    <tr>\n",
       "      <th>1</th>\n",
       "      <td>Female</td>\n",
       "      <td>54.0</td>\n",
       "      <td>0.0</td>\n",
       "      <td>0.0</td>\n",
       "      <td>No Info</td>\n",
       "      <td>27.32</td>\n",
       "      <td>6.6</td>\n",
       "      <td>80.0</td>\n",
       "      <td>0.0</td>\n",
       "      <td>NaN</td>\n",
       "    </tr>\n",
       "    <tr>\n",
       "      <th>2</th>\n",
       "      <td>Male</td>\n",
       "      <td>28.0</td>\n",
       "      <td>0.0</td>\n",
       "      <td>0.0</td>\n",
       "      <td>never</td>\n",
       "      <td>27.32</td>\n",
       "      <td>5.7</td>\n",
       "      <td>158.0</td>\n",
       "      <td>0.0</td>\n",
       "      <td>NaN</td>\n",
       "    </tr>\n",
       "    <tr>\n",
       "      <th>3</th>\n",
       "      <td>Female</td>\n",
       "      <td>36.0</td>\n",
       "      <td>0.0</td>\n",
       "      <td>0.0</td>\n",
       "      <td>current</td>\n",
       "      <td>23.45</td>\n",
       "      <td>5.0</td>\n",
       "      <td>155.0</td>\n",
       "      <td>0.0</td>\n",
       "      <td>NaN</td>\n",
       "    </tr>\n",
       "    <tr>\n",
       "      <th>4</th>\n",
       "      <td>Male</td>\n",
       "      <td>76.0</td>\n",
       "      <td>1.0</td>\n",
       "      <td>1.0</td>\n",
       "      <td>current</td>\n",
       "      <td>20.14</td>\n",
       "      <td>4.8</td>\n",
       "      <td>155.0</td>\n",
       "      <td>0.0</td>\n",
       "      <td>NaN</td>\n",
       "    </tr>\n",
       "  </tbody>\n",
       "</table>\n",
       "</div>"
      ],
      "text/plain": [
       "   gender   age  hypertension  heart_disease smoking_history    bmi  \\\n",
       "0  Female  80.0           0.0            1.0           never  25.19   \n",
       "1  Female  54.0           0.0            0.0         No Info  27.32   \n",
       "2    Male  28.0           0.0            0.0           never  27.32   \n",
       "3  Female  36.0           0.0            0.0         current  23.45   \n",
       "4    Male  76.0           1.0            1.0         current  20.14   \n",
       "\n",
       "   HbA1c_level  blood_glucose_level  diabetes Unnamed: 9  \n",
       "0          6.6                140.0       0.0        NaN  \n",
       "1          6.6                 80.0       0.0        NaN  \n",
       "2          5.7                158.0       0.0        NaN  \n",
       "3          5.0                155.0       0.0        NaN  \n",
       "4          4.8                155.0       0.0        NaN  "
      ]
     },
     "execution_count": 9,
     "metadata": {},
     "output_type": "execute_result"
    }
   ],
   "source": [
    "df_2.head()"
   ]
  },
  {
   "cell_type": "code",
   "execution_count": 10,
   "id": "c533fc12",
   "metadata": {
    "scrolled": true
   },
   "outputs": [
    {
     "data": {
      "text/plain": [
       "<Axes: >"
      ]
     },
     "execution_count": 10,
     "metadata": {},
     "output_type": "execute_result"
    },
    {
     "data": {
      "image/png": "[encoded data removed]",
      "text/plain": [
       "<Figure size 1400x700 with 2 Axes>"
      ]
     },
     "metadata": {},
     "output_type": "display_data"
    }
   ],
   "source": [
    "import seaborn as sns\n",
    "\n",
    "corr = df.corr(numeric_only=True)\n",
    "plt.figure(figsize=(14,7))\n",
    "sns.heatmap(corr,cmap = 'crest', annot = True)"
   ]
  },
  {
   "cell_type": "code",
   "execution_count": 11,
   "id": "fb4d1139",
   "metadata": {},
   "outputs": [
    {
     "data": {
      "image/png": "[encoded data removed]",
      "text/plain": [
       "<Figure size 1200x700 with 1 Axes>"
      ]
     },
     "metadata": {},
     "output_type": "display_data"
    },
    {
     "name": "stdout",
     "output_type": "stream",
     "text": [
      "Correlation:  0.41955799602056193\n"
     ]
    }
   ],
   "source": [
    "plt.figure(figsize=(12,7))\n",
    "sns.boxplot(x=df['diabetes'],y=df['blood_glucose_level'],data = df)\n",
    "plt.legend(df['diabetes'].unique())\n",
    "plt.show()\n",
    "print(\"Correlation: \",corr['diabetes']['blood_glucose_level'])"
   ]
  },
  {
   "cell_type": "code",
   "execution_count": null,
   "id": "d14e47e3",
   "metadata": {},
   "outputs": [],
   "source": []
  },
  {
   "cell_type": "code",
   "execution_count": 12,
   "id": "a9248b96",
   "metadata": {},
   "outputs": [
    {
     "data": {
      "image/png": "[encoded data removed]",
      "text/plain": [
       "<Figure size 1200x700 with 1 Axes>"
      ]
     },
     "metadata": {},
     "output_type": "display_data"
    },
    {
     "name": "stdout",
     "output_type": "stream",
     "text": [
      "Correlation:  0.2143574057995119\n"
     ]
    }
   ],
   "source": [
    "plt.figure(figsize=(12,7))\n",
    "sns.boxplot(x=df['diabetes'],y=df['bmi'],data = df)\n",
    "plt.legend(df['diabetes'].unique())\n",
    "plt.show()\n",
    "print(\"Correlation: \",corr['diabetes']['bmi'])"
   ]
  },
  {
   "cell_type": "code",
   "execution_count": 13,
   "id": "8ac09dbc",
   "metadata": {},
   "outputs": [
    {
     "data": {
      "image/png": "[encoded data removed]",
      "text/plain": [
       "<Figure size 1200x700 with 1 Axes>"
      ]
     },
     "metadata": {},
     "output_type": "display_data"
    },
    {
     "name": "stdout",
     "output_type": "stream",
     "text": [
      "Correlation:  0.25800803335609984\n"
     ]
    }
   ],
   "source": [
    "plt.figure(figsize=(12,7))\n",
    "plt.tick_params(axis='x', labelsize=16)\n",
    "plt.tick_params(axis='y', labelsize=16)\n",
    "sns.boxplot(x=df['diabetes'],y=df['age'],data = df)\n",
    "plt.legend(df['diabetes'].unique())\n",
    "plt.show()\n",
    "print(\"Correlation: \",corr['diabetes']['age'])"
   ]
  },
  {
   "cell_type": "code",
   "execution_count": 14,
   "id": "af8f204c",
   "metadata": {},
   "outputs": [
    {
     "data": {
      "image/png": "[encoded data removed]",
      "text/plain": [
       "<Figure size 1200x700 with 1 Axes>"
      ]
     },
     "metadata": {},
     "output_type": "display_data"
    },
    {
     "name": "stdout",
     "output_type": "stream",
     "text": [
      "Correlation:  1.0\n"
     ]
    }
   ],
   "source": [
    "plt.figure(figsize=(12,7))\n",
    "sns.boxplot(x=df['diabetes'],y=df['diabetes'],data = df)\n",
    "plt.legend(df['diabetes'].unique())\n",
    "plt.show()\n",
    "print(\"Correlation: \",corr['diabetes']['diabetes'])"
   ]
  },
  {
   "cell_type": "code",
   "execution_count": 16,
   "id": "1e62ca25",
   "metadata": {},
   "outputs": [],
   "source": [
    "def calc_mean(df):\n",
    "    return df.mean()\n"
   ]
  },
  {
   "cell_type": "code",
   "execution_count": 18,
   "id": "88c76fd0",
   "metadata": {},
   "outputs": [],
   "source": [
    "num_values = ['HbA1c_level','blood_glucose_level','bmi','age']"
   ]
  },
  {
   "cell_type": "code",
   "execution_count": 22,
   "id": "38ed1e21",
   "metadata": {},
   "outputs": [],
   "source": [
    "mean = df[num_values].mean()"
   ]
  },
  {
   "cell_type": "code",
   "execution_count": 23,
   "id": "aac74d26",
   "metadata": {},
   "outputs": [
    {
     "data": {
      "text/plain": [
       "HbA1c_level              5.527419\n",
       "blood_glucose_level    138.072277\n",
       "bmi                     27.320728\n",
       "age                     41.890313\n",
       "dtype: float64"
      ]
     },
     "execution_count": 23,
     "metadata": {},
     "output_type": "execute_result"
    }
   ],
   "source": [
    "mean"
   ]
  },
  {
   "cell_type": "code",
   "execution_count": 25,
   "id": "b18bac87",
   "metadata": {},
   "outputs": [
    {
     "data": {
      "text/plain": [
       "np.float64(5.527418677439677)"
      ]
     },
     "execution_count": 25,
     "metadata": {},
     "output_type": "execute_result"
    }
   ],
   "source": [
    "mean.HbA1c_level"
   ]
  },
  {
   "cell_type": "code",
   "execution_count": 24,
   "id": "2adb157e",
   "metadata": {},
   "outputs": [
    {
     "name": "stderr",
     "output_type": "stream",
     "text": [
      "C:\\Users\\1212a\\AppData\\Local\\Temp\\ipykernel_7808\\3115622012.py:1: FutureWarning: Series.__getitem__ treating keys as positions is deprecated. In a future version, integer keys will always be treated as labels (consistent with DataFrame behavior). To access a value by position, use `ser.iloc[pos]`\n",
      "  mean[1]\n"
     ]
    },
    {
     "data": {
      "text/plain": [
       "np.float64(138.07227693169204)"
      ]
     },
     "execution_count": 24,
     "metadata": {},
     "output_type": "execute_result"
    }
   ],
   "source": [
    "mean[1]"
   ]
  },
  {
   "cell_type": "code",
   "execution_count": null,
   "id": "bc43865d",
   "metadata": {},
   "outputs": [],
   "source": [
    "m1 = calc_mean(df[num_values[0]])\n",
    "m1 = calc_mean(df[num_values[0]])\n",
    "m1 = calc_mean(df[num_values[0]])\n",
    "m1 = calc_mean(df[num_values[0]])"
   ]
  },
  {
   "cell_type": "code",
   "execution_count": 21,
   "id": "7f2614dd",
   "metadata": {},
   "outputs": [
    {
     "data": {
      "text/plain": [
       "np.float64(5.527418677439677)"
      ]
     },
     "execution_count": 21,
     "metadata": {},
     "output_type": "execute_result"
    }
   ],
   "source": [
    "m1"
   ]
  },
  {
   "cell_type": "code",
   "execution_count": null,
   "id": "cc73133b",
   "metadata": {},
   "outputs": [],
   "source": [
    "\n",
    "# Define the mean vector and covariance matrix\n",
    "RV_Names = ['blood_glucose_level','HbA1c_level' ,'bmi', 'age']\n",
    "mu_1 = df_1[RV_Names[0]].mean()                          # means of Random Variables\n",
    "mu_2 = df_1[RV_Names[1]].mean()\n",
    "mu_3 = df_1[RV_Names[2]].mean()\n",
    "mu_4 = df_1[RV_Names[3]].mean()   \n",
    "\n",
    "\n",
    "\n",
    "std_1 = df_1[RV_Names[0]].std()                           # STD of Random Variables               \n",
    "std_2 = df_1[RV_Names[1]].std()\n",
    "std_3 = df_1[RV_Names[2]].std()\n",
    "std_4 = df_1[RV_Names[3]].std()    "
   ]
  },
  {
   "cell_type": "code",
   "execution_count": 2,
   "id": "193b6ccd",
   "metadata": {},
   "outputs": [
    {
     "ename": "NameError",
     "evalue": "name 'mu_1' is not defined",
     "output_type": "error",
     "traceback": [
      "\u001b[1;31m---------------------------------------------------------------------------\u001b[0m",
      "\u001b[1;31mNameError\u001b[0m                                 Traceback (most recent call last)",
      "Cell \u001b[1;32mIn[2], line 4\u001b[0m\n\u001b[0;32m      1\u001b[0m \u001b[38;5;66;03m# Var(X) = E[X^2] - E[X]^2\u001b[39;00m\n\u001b[0;32m      2\u001b[0m \u001b[38;5;28;01mimport\u001b[39;00m\u001b[38;5;250m \u001b[39m\u001b[38;5;21;01mnumpy\u001b[39;00m\u001b[38;5;250m \u001b[39m\u001b[38;5;28;01mas\u001b[39;00m\u001b[38;5;250m \u001b[39m\u001b[38;5;21;01mnp\u001b[39;00m\n\u001b[1;32m----> 4\u001b[0m X_1 \u001b[38;5;241m=\u001b[39m np\u001b[38;5;241m.\u001b[39mlinspace(\u001b[43mmu_1\u001b[49m \u001b[38;5;241m-\u001b[39m \u001b[38;5;241m3\u001b[39m\u001b[38;5;241m*\u001b[39mstd_1, mu_1 \u001b[38;5;241m+\u001b[39m \u001b[38;5;241m3\u001b[39m\u001b[38;5;241m*\u001b[39mstd_1,\u001b[38;5;241m150\u001b[39m)\n\u001b[0;32m      5\u001b[0m X_2 \u001b[38;5;241m=\u001b[39m np\u001b[38;5;241m.\u001b[39mlinspace(mu_2 \u001b[38;5;241m-\u001b[39m \u001b[38;5;241m3\u001b[39m\u001b[38;5;241m*\u001b[39mstd_2, mu_2 \u001b[38;5;241m+\u001b[39m \u001b[38;5;241m3\u001b[39m\u001b[38;5;241m*\u001b[39mstd_2,\u001b[38;5;241m150\u001b[39m)\n",
      "\u001b[1;31mNameError\u001b[0m: name 'mu_1' is not defined"
     ]
    }
   ],
   "source": [
    "# Var(X) = E[X^2] - E[X]^2\n",
    "import numpy as np\n",
    "\n",
    "X_1 = np.linspace(mu_1 - 3*std_1, mu_1 + 3*std_1,150)\n",
    "X_2 = np.linspace(mu_2 - 3*std_2, mu_2 + 3*std_2,150)"
   ]
  },
  {
   "cell_type": "code",
   "execution_count": 1,
   "id": "73452cd7",
   "metadata": {},
   "outputs": [
    {
     "ename": "NameError",
     "evalue": "name 'X_1' is not defined",
     "output_type": "error",
     "traceback": [
      "\u001b[1;31m---------------------------------------------------------------------------\u001b[0m",
      "\u001b[1;31mNameError\u001b[0m                                 Traceback (most recent call last)",
      "Cell \u001b[1;32mIn[1], line 3\u001b[0m\n\u001b[0;32m      1\u001b[0m \u001b[38;5;28;01mimport\u001b[39;00m\u001b[38;5;250m \u001b[39m\u001b[38;5;21;01mmatplotlib\u001b[39;00m\u001b[38;5;21;01m.\u001b[39;00m\u001b[38;5;21;01mpyplot\u001b[39;00m\u001b[38;5;250m \u001b[39m\u001b[38;5;28;01mas\u001b[39;00m\u001b[38;5;250m \u001b[39m\u001b[38;5;21;01mplt\u001b[39;00m\n\u001b[0;32m      2\u001b[0m \u001b[38;5;28;01mfrom\u001b[39;00m\u001b[38;5;250m \u001b[39m\u001b[38;5;21;01mscipy\u001b[39;00m\u001b[38;5;21;01m.\u001b[39;00m\u001b[38;5;21;01mstats\u001b[39;00m\u001b[38;5;250m \u001b[39m\u001b[38;5;28;01mimport\u001b[39;00m norm\n\u001b[1;32m----> 3\u001b[0m plt\u001b[38;5;241m.\u001b[39mplot(\u001b[43mX_1\u001b[49m,norm\u001b[38;5;241m.\u001b[39mpdf(X_1,mu_1,std_1),color\u001b[38;5;241m=\u001b[39m \u001b[38;5;124m'\u001b[39m\u001b[38;5;124mblue\u001b[39m\u001b[38;5;124m'\u001b[39m)\n\u001b[0;32m      4\u001b[0m \u001b[38;5;66;03m#plt.plot(X_2,norm.pdf(X_2,mu_2,std_2),color= 'red')\u001b[39;00m\n\u001b[0;32m      5\u001b[0m plt\u001b[38;5;241m.\u001b[39mgrid()\n",
      "\u001b[1;31mNameError\u001b[0m: name 'X_1' is not defined"
     ]
    }
   ],
   "source": [
    "import matplotlib.pyplot as plt\n",
    "from scipy.stats import norm\n",
    "plt.plot(X_1,norm.pdf(X_1,mu_1,std_1),color= 'blue')\n",
    "#plt.plot(X_2,norm.pdf(X_2,mu_2,std_2),color= 'red')\n",
    "plt.grid()\n",
    "plt.show()"
   ]
  },
  {
   "cell_type": "code",
   "execution_count": 19,
   "id": "62491931",
   "metadata": {},
   "outputs": [
    {
     "data": {
      "text/html": [
       "<div>\n",
       "<style scoped>\n",
       "    .dataframe tbody tr th:only-of-type {\n",
       "        vertical-align: middle;\n",
       "    }\n",
       "\n",
       "    .dataframe tbody tr th {\n",
       "        vertical-align: top;\n",
       "    }\n",
       "\n",
       "    .dataframe thead th {\n",
       "        text-align: right;\n",
       "    }\n",
       "</style>\n",
       "<table border=\"1\" class=\"dataframe\">\n",
       "  <thead>\n",
       "    <tr style=\"text-align: right;\">\n",
       "      <th></th>\n",
       "      <th>age</th>\n",
       "      <th>hypertension</th>\n",
       "      <th>heart_disease</th>\n",
       "      <th>bmi</th>\n",
       "      <th>HbA1c_level</th>\n",
       "      <th>blood_glucose_level</th>\n",
       "      <th>diabetes</th>\n",
       "    </tr>\n",
       "  </thead>\n",
       "  <tbody>\n",
       "    <tr>\n",
       "      <th>count</th>\n",
       "      <td>8500.000000</td>\n",
       "      <td>8500.000000</td>\n",
       "      <td>8500.000000</td>\n",
       "      <td>8500.000000</td>\n",
       "      <td>8500.000000</td>\n",
       "      <td>8500.000000</td>\n",
       "      <td>8500.0</td>\n",
       "    </tr>\n",
       "    <tr>\n",
       "      <th>mean</th>\n",
       "      <td>60.946588</td>\n",
       "      <td>0.245647</td>\n",
       "      <td>0.149059</td>\n",
       "      <td>31.988382</td>\n",
       "      <td>6.934953</td>\n",
       "      <td>194.094706</td>\n",
       "      <td>1.0</td>\n",
       "    </tr>\n",
       "    <tr>\n",
       "      <th>std</th>\n",
       "      <td>14.549880</td>\n",
       "      <td>0.430496</td>\n",
       "      <td>0.356167</td>\n",
       "      <td>7.558371</td>\n",
       "      <td>1.076562</td>\n",
       "      <td>58.641111</td>\n",
       "      <td>0.0</td>\n",
       "    </tr>\n",
       "    <tr>\n",
       "      <th>min</th>\n",
       "      <td>3.000000</td>\n",
       "      <td>0.000000</td>\n",
       "      <td>0.000000</td>\n",
       "      <td>10.980000</td>\n",
       "      <td>5.700000</td>\n",
       "      <td>126.000000</td>\n",
       "      <td>1.0</td>\n",
       "    </tr>\n",
       "    <tr>\n",
       "      <th>25%</th>\n",
       "      <td>52.000000</td>\n",
       "      <td>0.000000</td>\n",
       "      <td>0.000000</td>\n",
       "      <td>27.320000</td>\n",
       "      <td>6.100000</td>\n",
       "      <td>145.000000</td>\n",
       "      <td>1.0</td>\n",
       "    </tr>\n",
       "    <tr>\n",
       "      <th>50%</th>\n",
       "      <td>62.000000</td>\n",
       "      <td>0.000000</td>\n",
       "      <td>0.000000</td>\n",
       "      <td>29.970000</td>\n",
       "      <td>6.600000</td>\n",
       "      <td>160.000000</td>\n",
       "      <td>1.0</td>\n",
       "    </tr>\n",
       "    <tr>\n",
       "      <th>75%</th>\n",
       "      <td>72.000000</td>\n",
       "      <td>0.000000</td>\n",
       "      <td>0.000000</td>\n",
       "      <td>35.912500</td>\n",
       "      <td>7.500000</td>\n",
       "      <td>240.000000</td>\n",
       "      <td>1.0</td>\n",
       "    </tr>\n",
       "    <tr>\n",
       "      <th>max</th>\n",
       "      <td>80.000000</td>\n",
       "      <td>1.000000</td>\n",
       "      <td>1.000000</td>\n",
       "      <td>88.720000</td>\n",
       "      <td>9.000000</td>\n",
       "      <td>300.000000</td>\n",
       "      <td>1.0</td>\n",
       "    </tr>\n",
       "  </tbody>\n",
       "</table>\n",
       "</div>"
      ],
      "text/plain": [
       "               age  hypertension  heart_disease          bmi  HbA1c_level  \\\n",
       "count  8500.000000   8500.000000    8500.000000  8500.000000  8500.000000   \n",
       "mean     60.946588      0.245647       0.149059    31.988382     6.934953   \n",
       "std      14.549880      0.430496       0.356167     7.558371     1.076562   \n",
       "min       3.000000      0.000000       0.000000    10.980000     5.700000   \n",
       "25%      52.000000      0.000000       0.000000    27.320000     6.100000   \n",
       "50%      62.000000      0.000000       0.000000    29.970000     6.600000   \n",
       "75%      72.000000      0.000000       0.000000    35.912500     7.500000   \n",
       "max      80.000000      1.000000       1.000000    88.720000     9.000000   \n",
       "\n",
       "       blood_glucose_level  diabetes  \n",
       "count          8500.000000    8500.0  \n",
       "mean            194.094706       1.0  \n",
       "std              58.641111       0.0  \n",
       "min             126.000000       1.0  \n",
       "25%             145.000000       1.0  \n",
       "50%             160.000000       1.0  \n",
       "75%             240.000000       1.0  \n",
       "max             300.000000       1.0  "
      ]
     },
     "execution_count": 19,
     "metadata": {},
     "output_type": "execute_result"
    }
   ],
   "source": [
    "df_1.describe()"
   ]
  },
  {
   "cell_type": "code",
   "execution_count": 21,
   "id": "bba71562-2aa5-46ad-a3bd-f2548092b9ec",
   "metadata": {},
   "outputs": [],
   "source": [
    "import numpy as np\n",
    "\n",
    "def extract_univariate(mean, cov, obs, slc, res):\n",
    "    x = list(np.linspace(slc[1], slc[2], res))\n",
    "    arr = []\n",
    "    jj = slc[0]\n",
    "    sample = obs\n",
    "    for x1 in x:\n",
    "        sample[jj] = x1\n",
    "        # Calculate the conditional likelihood of the sample\n",
    "        arr.append(multivariate_normal.pdf(sample, mean, cov))\n",
    "    return x, arr\n",
    "\n",
    "def is_pos_def(x):\n",
    "    return np.all(np.linalg.eigvals(x) > 0)"
   ]
  },
  {
   "cell_type": "code",
   "execution_count": 22,
   "id": "37841560-cfa4-4a53-b962-de49328e3989",
   "metadata": {},
   "outputs": [],
   "source": [
    "import matplotlib.pyplot as plt\n",
    "\n",
    "def univariate_plot(data):\n",
    "    plt.figure(figsize=(15, 10))\n",
    "    plt.plot(data[0], data[1], label=data[8][0], color = 'red')\n",
    "    plt.plot(data[2], data[3], label=data[8][1], color = 'blue')\n",
    "    plt.plot(data[4], data[5], label=data[8][2], color = 'orange')\n",
    "    plt.plot(data[6], data[7], label=data[8][3], color = 'black')\n",
    "    plt.xlabel('One RV out of N')\n",
    "    plt.ylabel('Probability')\n",
    "    plt.title('Probability')\n",
    "    plt.legend()\n",
    "    plt.grid(True)\n",
    "    plt.show()"
   ]
  },
  {
   "cell_type": "markdown",
   "id": "419ae702-0f2a-46c0-8e9d-484924d148ec",
   "metadata": {},
   "source": [
    "Definition of Covariance is \n",
    "\n",
    "$${\\displaystyle \\operatorname {cov} (X,Y)=\\operatorname {E} {{\\big [}(X-\\operatorname {E} [X])(Y-\\operatorname {E} [Y]){\\big ]}}}$$\n",
    "\n",
    "Relationship between Covariance and Correlation is as follows:\n",
    "$${\\displaystyle \\rho _{XY}={\\frac {{cov} (X,Y)}{(\\sigma _{X}\\sigma _{Y})}}}$$\n",
    "\n",
    "\n",
    "\n"
   ]
  },
  {
   "cell_type": "markdown",
   "id": "6ad93002-e89e-4c7b-8c49-deb7cba99b83",
   "metadata": {},
   "source": [
    "$${\\displaystyle \\rho _{XY}={\\frac {{cov} (X,Y)}{(\\sigma _{X}\\sigma _{Y})}}}$$\n",
    "\n",
    "$${\\displaystyle \\rho _{XY}=\\sigma _{XY}/(\\sigma _{X}\\sigma _{Y})}$$"
   ]
  },
  {
   "cell_type": "markdown",
   "id": "1e66f2b1-e7ff-4b72-967b-dcdf7017d7b5",
   "metadata": {},
   "source": []
  },
  {
   "cell_type": "code",
   "execution_count": 23,
   "id": "8dc40997-bf1e-4044-b763-73774eab3275",
   "metadata": {},
   "outputs": [],
   "source": [
    "def get_data_range(delta,obs):\n",
    "    \n",
    "    sym_1_upper = math.ceil(obs[0] + obs[0]*delta)\n",
    "    sym_1_lower = int(obs[0] - obs[0]*delta)\n",
    "    \n",
    "    sym_2_upper = math.ceil(obs[1] + obs[1]*delta)\n",
    "    sym_2_lower = int(obs[1] - obs[1]*delta)\n",
    "\n",
    "    sym_3_upper = math.ceil(obs[2] + obs[2]*delta)\n",
    "    sym_3_lower = int(obs[2] - obs[2]*delta)\n",
    "\n",
    "    sym_4_upper = math.ceil(obs[3] + obs[3]*delta)\n",
    "    sym_4_lower = int(obs[3] - obs[3]*delta)\n",
    "\n",
    "#     print(\"glucose range\", l_glucose, u_glucose)\n",
    "#     print(\"bmi range\", l_bmi, u_bmi)\n",
    "#     print(\"age range\", l_age, u_age)\n",
    "    data = [sym_1_lower,sym_1_upper,sym_2_lower,sym_2_upper,\n",
    "            sym_3_lower,sym_3_upper,sym_4_lower,sym_4_upper]\n",
    "    print(data)\n",
    "    return data"
   ]
  },
  {
   "cell_type": "code",
   "execution_count": 24,
   "id": "83bfe456-2623-4415-b531-6f824abe1c69",
   "metadata": {},
   "outputs": [],
   "source": [
    "def calculate_probablity(data):\n",
    "    probablity = 0\n",
    "    for x in range(data[0],data[1]):\n",
    "        for i in range(data[2], data[3]):\n",
    "            for j in range(data[4], data[5]):\n",
    "                for k in range(data[6],data[7]):\n",
    "                    observation = [x,i,j,k]\n",
    "                    #print(observation)\n",
    "                    probablity += multivariate_normal.pdf(observation, mean, cov_matrix)\n",
    "\n",
    "\n",
    "    return probablity"
   ]
  },
  {
   "cell_type": "code",
   "execution_count": 28,
   "id": "879df4f7-240c-4449-87d6-4487ab088f5a",
   "metadata": {
    "scrolled": true
   },
   "outputs": [
    {
     "name": "stdout",
     "output_type": "stream",
     "text": [
      "0.16413514929522263 0.09163076573023367 0.11733136252785176 0.08300303526495971 0.10031366619037782 0.33719626522497714\n",
      "[[3.43877995e+03 1.03619850e+01 4.06136194e+01 1.00109595e+02]\n",
      " [1.03619850e+01 1.15898641e+00 6.75400427e-01 1.57129841e+00]\n",
      " [4.06136194e+01 6.75400427e-01 5.71289670e+01 3.70826138e+01]\n",
      " [1.00109595e+02 1.57129841e+00 3.70826138e+01 2.11698994e+02]]\n",
      "The positive_semidefinite_CHECK of cov_matrix is True\n",
      "The conditional likelihood of the sample [10.0, 2.0, 48.0, 2.0] is 5.722453220236111e-18.\n"
     ]
    },
    {
     "data": {
      "image/png": "[encoded data removed]",
      "text/plain": [
       "<Figure size 1500x1000 with 1 Axes>"
      ]
     },
     "metadata": {},
     "output_type": "display_data"
    },
    {
     "name": "stdout",
     "output_type": "stream",
     "text": [
      "The conditional likelihood of the sample [np.float64(194.09470588235294), np.float64(6.93495294117647), np.float64(31.988382352941176), 14] is 1.0394745425833457e-08.\n",
      "[71, 133, 4, 8, 13, 25, 38, 72]\n",
      "\n",
      "\n",
      "The probablity of people closer to given observations is:  0.015272857712627822\n"
     ]
    }
   ],
   "source": [
    "import numpy as np\n",
    "import math\n",
    "from scipy.stats import multivariate_normal\n",
    "\n",
    "# Define the mean vector and covariance matrix\n",
    "RV_Names = ['blood_glucose_level','HbA1c_level' ,'bmi', 'age']\n",
    "mu_1 = df_1[RV_Names[0]].mean()                          # means of Random Variables\n",
    "mu_2 = df_1[RV_Names[1]].mean()\n",
    "mu_3 = df_1[RV_Names[2]].mean()\n",
    "mu_4 = df_1[RV_Names[3]].mean()   \n",
    "\n",
    "\n",
    "\n",
    "std_1 = df_1[RV_Names[0]].std()                           # STD of Random Variables               \n",
    "std_2 = df_1[RV_Names[1]].std()\n",
    "std_3 = df_1[RV_Names[2]].std()\n",
    "std_4 = df_1[RV_Names[3]].std()        \n",
    "\n",
    "# correlation coeff bw Random Variables\n",
    "rho_12 = corr[RV_Names[0]][RV_Names[1]]                 \n",
    "rho_13 = corr[RV_Names[0]][RV_Names[2]]\n",
    "rho_14 = corr[RV_Names[0]][RV_Names[3]]                   \n",
    "rho_23 = corr[RV_Names[1]][RV_Names[2]]\n",
    "rho_24 = corr[RV_Names[1]][RV_Names[3]]                     \n",
    "rho_34 = corr[RV_Names[2]][RV_Names[3]]    \n",
    "\n",
    "print(rho_12,rho_13,rho_14,rho_23,rho_24,rho_34)\n",
    "\n",
    "\n",
    "mean = [mu_1, mu_2, mu_3, mu_4]\n",
    "\n",
    "\n",
    "cov_matrix = np.array(\n",
    "    [[std_1**2,              rho_12*std_1*std_2,     rho_13*std_1*std_3,     rho_14*std_1*std_4],\n",
    "    [rho_12*std_1*std_2,     std_2**2,               rho_23*std_2*std_3,     rho_24*std_2*std_4],\n",
    "    [rho_13*std_1*std_3,     rho_23*std_2*std_3,     std_3**2,               rho_34*std_3*std_4],\n",
    "    [rho_14*std_1*std_4,     rho_24*std_2*std_4,     rho_34*std_3*std_4,     std_4**2]]\n",
    "    )\n",
    "\n",
    "\n",
    "print(cov_matrix)\n",
    "'''\n",
    "cov_matrix1 = np.array([[67., 1., 56., 19.],\n",
    "                       [1., 10., 0., 0.],\n",
    "                       [56., 0., 66., 0.],\n",
    "                       [19., 0., 0., 20.]])\n",
    "'''\n",
    "\n",
    "print(f\"The positive_semidefinite_CHECK of cov_matrix is {is_pos_def(cov_matrix)}\")\n",
    "# Generate a random sample from the multivariate normal distribution\n",
    "sample = np.random.multivariate_normal(mean, cov_matrix)\n",
    "sample = [10., 2., 48., 2.]\n",
    "print(f\"The conditional likelihood of the sample {sample} is {multivariate_normal.pdf(sample, mean, cov_matrix)}.\")\n",
    "\n",
    "\n",
    "observation = [mu_1, 0.93*mu_2, 0.76*mu_3, mu_4]\n",
    "nlim = mean[0]-4*math.sqrt(cov_matrix[0,0])\n",
    "plim = mean[0]+4*math.sqrt(cov_matrix[0,0])\n",
    "slice = [0, nlim, plim]\n",
    "x1, arr1 = extract_univariate(mean, cov_matrix, observation, slice,10)\n",
    "\n",
    "observation = [mu_1, 0.78*mu_2, mu_3, mu_4]\n",
    "nlim = mean[1]-4*math.sqrt(cov_matrix[1,1])\n",
    "plim = mean[1]+4*math.sqrt(cov_matrix[1,1])\n",
    "slice = [1, nlim, plim]\n",
    "x2, arr2 = extract_univariate(mean, cov_matrix, observation, slice,40)\n",
    "\n",
    "observation = [mu_1, mu_2, 0.45*mu_3, mu_4]\n",
    "nlim = mean[2]-4*math.sqrt(cov_matrix[2,2])\n",
    "plim = mean[2]+4*math.sqrt(cov_matrix[2,2])\n",
    "slice = [2, nlim, plim]\n",
    "x3, arr3= extract_univariate(mean, cov_matrix, observation, slice,100)\n",
    "\n",
    "observation = [mu_1, mu_2,mu_3, 0.9*mu_4]\n",
    "nlim = mean[3]-4*math.sqrt(cov_matrix[3,3])\n",
    "plim = mean[3]+4*math.sqrt(cov_matrix[3,3])\n",
    "slice = [3, nlim, plim]\n",
    "x4, arr4 = extract_univariate(mean, cov_matrix, observation, slice,40)\n",
    "univariate_plot((x1, arr1, x2, arr2, x3, arr3, x4, arr4,RV_Names))\n",
    "\n",
    "observation[3] = 14\n",
    "conditional_likelihood = multivariate_normal.pdf(observation, mean, cov_matrix)\n",
    "print(f\"The conditional likelihood of the sample {observation} is {conditional_likelihood}.\")\n",
    "\n",
    "\n",
    "\n",
    "# Calculating the probablity of people in certain range of values of the given symptoms\n",
    "observation_2 = [102,6,19,55]\n",
    "delta = 0.3\n",
    "data = get_data_range(delta,observation_2)\n",
    "prob = calculate_probablity(data)\n",
    "\n",
    "print(\"\\n\\nThe probablity of people closer to given observations is: \", prob)"
   ]
  },
  {
   "cell_type": "code",
   "execution_count": null,
   "id": "ed17b698-20c6-4132-9295-0a3afa3c7776",
   "metadata": {},
   "outputs": [],
   "source": []
  }
 ],
 "metadata": {
  "kernelspec": {
   "display_name": "env",
   "language": "python",
   "name": "python3"
  },
  "language_info": {
   "codemirror_mode": {
    "name": "ipython",
    "version": 3
   },
   "file_extension": ".py",
   "mimetype": "text/x-python",
   "name": "python",
   "nbconvert_exporter": "python",
   "pygments_lexer": "ipython3",
   "version": "3.13.2"
  }
 },
 "nbformat": 4,
 "nbformat_minor": 5
}
