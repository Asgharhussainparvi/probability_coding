{
 "cells": [
  {
   "cell_type": "code",
   "execution_count": 1,
   "metadata": {},
   "outputs": [
    {
     "name": "stdout",
     "output_type": "stream",
     "text": [
      "Vocabulary: {'methods', 'natural', 'markets', 'international', 'evolution', 'researchers', 'revealed', 'entire', 'dna', 'challenge', 'recent', 'differences', 'relationships', 'throughout', 'stability', 'physical', 'brain', 'diversity', 'proteins', 'forming', 'therapeutic', 'progresses', 'information', 'controlling', 'influenced', 'demonstrates', 'new', 'conservation', 'balance', 'continue', 'demand', 'account', 'potential', 'economics', 'expression', 'ecosystems', 'health', 'prices', 'connections', 'stages', 'macroeconomic', 'unemployment', 'develop', 'regulatory', 'pathways', 'economic', 'approaches', 'occurs', 'establishing', 'ensure', 'biochemical', 'matter', 'genetic', 'individual', 'quantum', 'complex', 'mechanics', 'computers', 'influence', 'global', 'factors', 'treatments', 'models', 'efforts', 'uncertainty', 'energy', 'advantages', 'forces', 'waveparticle', 'psychology', 'principle', 'build', 'social', 'economies', 'equilibrium', 'inflation', 'economists', 'various', 'longterm', 'world', 'mental', 'studies', 'nutrients', 'supply', 'shaped', 'computing', 'debate', 'become', 'affect', 'neural', 'convert', 'theory', 'describes', 'interpretations', 'psychological', 'reality', 'experiences', 'behavioral', 'maintaining', 'children', 'atomic', 'consideration', 'species', 'experiments', 'growth', 'demonstrated', 'biodiversity', 'contexts', 'integrate', 'individuals', 'millions', 'development', 'cognitive', 'selection', 'flows', 'plasticity', 'mechanisms', 'behavior', 'scale', 'classical', 'processes', 'understanding', 'trade', 'cellular', 'increasingly', 'policies', 'years', 'others', 'decisionmaking', 'rna', 'learning', 'life', 'implications', 'financial', 'market', 'optimal', 'focus', 'gene', 'duality'}\n"
     ]
    }
   ],
   "source": [
    "import re\n",
    "from collections import Counter\n",
    "import math\n",
    "\n",
    "# Sample paragraphs\n",
    "paragraphs = {\n",
    "    \"Physics\": \"Quantum mechanics describes the behavior of matter at the atomic scale. The uncertainty principle and wave-particle duality challenge our understanding of reality. Recent experiments with quantum computers have demonstrated potential advantages over classical computing methods. Researchers continue to debate interpretations of quantum theory and its implications for our understanding of the physical world.\",\n",
    "    \"Economics\": \"Market equilibrium occurs when supply and demand forces balance, establishing optimal prices. Macroeconomic policies influence inflation, unemployment, and economic growth across entire economies. Behavioral economics has revealed how psychological factors affect financial decision-making. As markets become increasingly global, economists develop models to account for international trade relationships.\",\n",
    "    \"Biology\": \"Evolution has shaped the diversity of species through natural selection over millions of years. Cellular processes convert nutrients into energy through complex biochemical pathways. Genetic information flows from DNA to RNA to proteins, with regulatory mechanisms controlling gene expression. Conservation efforts focus on maintaining biodiversity in ecosystems to ensure their long-term stability.\",\n",
    "    \"Psychology\": \"Cognitive development progresses through stages as children build more complex mental models. Social psychology studies how individuals are influenced by others in various contexts. The brain demonstrates plasticity, forming new neural connections throughout life during learning experiences. Mental health treatments integrate various therapeutic approaches with consideration of individual differences.\"\n",
    "}\n",
    "\n",
    "# Common stop words\n",
    "stop_words = set([\n",
    "    \"the\", \"and\", \"of\", \"to\", \"in\", \"a\", \"is\", \"that\", \"it\", \"with\", \"as\", \"for\", \"on\", \"are\", \"this\", \"by\", \"be\", \"have\", \"has\", \"or\", \"at\", \"an\", \"from\", \"their\", \"which\", \"these\", \"those\", \"was\", \"were\", \"been\", \"being\", \"through\", \"during\", \"its\", \"how\", \"into\", \"over\", \"across\", \"each\", \"more\", \"other\", \"such\", \"some\", \"any\", \"only\", \"also\", \"when\", \"than\", \"but\", \"not\", \"they\", \"we\", \"our\", \"us\", \"you\", \"your\", \"he\", \"she\", \"his\", \"her\", \"them\", \"its\", \"my\", \"mine\", \"your\", \"yours\", \"our\", \"ours\", \"their\", \"theirs\"\n",
    "])\n",
    "\n",
    "# Preprocessing function\n",
    "def preprocess(text):\n",
    "    text = text.lower()  # Convert to lowercase\n",
    "    text = re.sub(r'[^\\w\\s]', '', text)  # Remove punctuation\n",
    "    words = text.split()  # Split into words\n",
    "    words = [word for word in words if word not in stop_words]  # Remove stop words\n",
    "    return words\n",
    "\n",
    "# Preprocess all paragraphs\n",
    "preprocessed_paragraphs = {field: preprocess(text) for field, text in paragraphs.items()}\n",
    "\n",
    "# Create vocabulary\n",
    "vocabulary = set()\n",
    "for words in preprocessed_paragraphs.values():\n",
    "    vocabulary.update(words)\n",
    "\n",
    "print(\"Vocabulary:\", vocabulary)"
   ]
  },
  {
   "cell_type": "code",
   "execution_count": 2,
   "metadata": {},
   "outputs": [
    {
     "name": "stdout",
     "output_type": "stream",
     "text": [
      "Relative Frequencies: {'Physics': {'quantum': 0.08823529411764706, 'mechanics': 0.029411764705882353, 'describes': 0.029411764705882353, 'behavior': 0.029411764705882353, 'matter': 0.029411764705882353, 'atomic': 0.029411764705882353, 'scale': 0.029411764705882353, 'uncertainty': 0.029411764705882353, 'principle': 0.029411764705882353, 'waveparticle': 0.029411764705882353, 'duality': 0.029411764705882353, 'challenge': 0.029411764705882353, 'understanding': 0.058823529411764705, 'reality': 0.029411764705882353, 'recent': 0.029411764705882353, 'experiments': 0.029411764705882353, 'computers': 0.029411764705882353, 'demonstrated': 0.029411764705882353, 'potential': 0.029411764705882353, 'advantages': 0.029411764705882353, 'classical': 0.029411764705882353, 'computing': 0.029411764705882353, 'methods': 0.029411764705882353, 'researchers': 0.029411764705882353, 'continue': 0.029411764705882353, 'debate': 0.029411764705882353, 'interpretations': 0.029411764705882353, 'theory': 0.029411764705882353, 'implications': 0.029411764705882353, 'physical': 0.029411764705882353, 'world': 0.029411764705882353}, 'Economics': {'market': 0.02631578947368421, 'equilibrium': 0.02631578947368421, 'occurs': 0.02631578947368421, 'supply': 0.02631578947368421, 'demand': 0.02631578947368421, 'forces': 0.02631578947368421, 'balance': 0.02631578947368421, 'establishing': 0.02631578947368421, 'optimal': 0.02631578947368421, 'prices': 0.02631578947368421, 'macroeconomic': 0.02631578947368421, 'policies': 0.02631578947368421, 'influence': 0.02631578947368421, 'inflation': 0.02631578947368421, 'unemployment': 0.02631578947368421, 'economic': 0.02631578947368421, 'growth': 0.02631578947368421, 'entire': 0.02631578947368421, 'economies': 0.02631578947368421, 'behavioral': 0.02631578947368421, 'economics': 0.02631578947368421, 'revealed': 0.02631578947368421, 'psychological': 0.02631578947368421, 'factors': 0.02631578947368421, 'affect': 0.02631578947368421, 'financial': 0.02631578947368421, 'decisionmaking': 0.02631578947368421, 'markets': 0.02631578947368421, 'become': 0.02631578947368421, 'increasingly': 0.02631578947368421, 'global': 0.02631578947368421, 'economists': 0.02631578947368421, 'develop': 0.02631578947368421, 'models': 0.02631578947368421, 'account': 0.02631578947368421, 'international': 0.02631578947368421, 'trade': 0.02631578947368421, 'relationships': 0.02631578947368421}, 'Biology': {'evolution': 0.027777777777777776, 'shaped': 0.027777777777777776, 'diversity': 0.027777777777777776, 'species': 0.027777777777777776, 'natural': 0.027777777777777776, 'selection': 0.027777777777777776, 'millions': 0.027777777777777776, 'years': 0.027777777777777776, 'cellular': 0.027777777777777776, 'processes': 0.027777777777777776, 'convert': 0.027777777777777776, 'nutrients': 0.027777777777777776, 'energy': 0.027777777777777776, 'complex': 0.027777777777777776, 'biochemical': 0.027777777777777776, 'pathways': 0.027777777777777776, 'genetic': 0.027777777777777776, 'information': 0.027777777777777776, 'flows': 0.027777777777777776, 'dna': 0.027777777777777776, 'rna': 0.027777777777777776, 'proteins': 0.027777777777777776, 'regulatory': 0.027777777777777776, 'mechanisms': 0.027777777777777776, 'controlling': 0.027777777777777776, 'gene': 0.027777777777777776, 'expression': 0.027777777777777776, 'conservation': 0.027777777777777776, 'efforts': 0.027777777777777776, 'focus': 0.027777777777777776, 'maintaining': 0.027777777777777776, 'biodiversity': 0.027777777777777776, 'ecosystems': 0.027777777777777776, 'ensure': 0.027777777777777776, 'longterm': 0.027777777777777776, 'stability': 0.027777777777777776}, 'Psychology': {'cognitive': 0.02631578947368421, 'development': 0.02631578947368421, 'progresses': 0.02631578947368421, 'stages': 0.02631578947368421, 'children': 0.02631578947368421, 'build': 0.02631578947368421, 'complex': 0.02631578947368421, 'mental': 0.05263157894736842, 'models': 0.02631578947368421, 'social': 0.02631578947368421, 'psychology': 0.02631578947368421, 'studies': 0.02631578947368421, 'individuals': 0.02631578947368421, 'influenced': 0.02631578947368421, 'others': 0.02631578947368421, 'various': 0.05263157894736842, 'contexts': 0.02631578947368421, 'brain': 0.02631578947368421, 'demonstrates': 0.02631578947368421, 'plasticity': 0.02631578947368421, 'forming': 0.02631578947368421, 'new': 0.02631578947368421, 'neural': 0.02631578947368421, 'connections': 0.02631578947368421, 'throughout': 0.02631578947368421, 'life': 0.02631578947368421, 'learning': 0.02631578947368421, 'experiences': 0.02631578947368421, 'health': 0.02631578947368421, 'treatments': 0.02631578947368421, 'integrate': 0.02631578947368421, 'therapeutic': 0.02631578947368421, 'approaches': 0.02631578947368421, 'consideration': 0.02631578947368421, 'individual': 0.02631578947368421, 'differences': 0.02631578947368421}}\n"
     ]
    }
   ],
   "source": [
    "# Count word frequencies for each paragraph\n",
    "word_counts = {field: Counter(words) for field, words in preprocessed_paragraphs.items()}\n",
    "\n",
    "# Calculate relative frequency distribution\n",
    "relative_frequencies = {}\n",
    "for field, counts in word_counts.items():\n",
    "    total_words = sum(counts.values())\n",
    "    relative_frequencies[field] = {word: count / total_words for word, count in counts.items()}\n",
    "\n",
    "print(\"Relative Frequencies:\", relative_frequencies)"
   ]
  },
  {
   "cell_type": "code",
   "execution_count": 3,
   "metadata": {},
   "outputs": [
    {
     "name": "stdout",
     "output_type": "stream",
     "text": [
      "Log-Likelihoods: {'Physics': -115.21412660982531, 'Economics': -138.22827406960258, 'Biology': -129.00668178441995, 'Psychology': -135.45568534736282}\n"
     ]
    }
   ],
   "source": [
    "# Estimate parameters of a probability distribution for each field\n",
    "def calculate_log_likelihood(text, field):\n",
    "    words = preprocess(text)\n",
    "    log_likelihood = 0\n",
    "    for word in words:\n",
    "        if word in relative_frequencies[field]:\n",
    "            log_likelihood += math.log(relative_frequencies[field][word])\n",
    "        else:\n",
    "            log_likelihood += math.log(1e-10)  # Small probability for unseen words\n",
    "    return log_likelihood\n",
    "\n",
    "# Calculate log-likelihood for each paragraph\n",
    "log_likelihoods = {}\n",
    "for field in paragraphs:\n",
    "    log_likelihoods[field] = calculate_log_likelihood(paragraphs[field], field)\n",
    "\n",
    "print(\"Log-Likelihoods:\", log_likelihoods)"
   ]
  },
  {
   "cell_type": "code",
   "execution_count": 4,
   "metadata": {},
   "outputs": [
    {
     "name": "stdout",
     "output_type": "stream",
     "text": [
      "Likelihoods: {'Physics': -506.56872045869017, 'Economics': -487.1804556884761, 'Biology': -506.56872045869017, 'Psychology': -467.792190918262}\n",
      "Most Probable Field: Psychology\n",
      "Key Words: ['neural', 'learning']\n"
     ]
    }
   ],
   "source": [
    "# Unclassified paragraph\n",
    "unclassified_paragraph = \"Neural networks model relationships between variables through layers of connected nodes. Each connection has a weight that is adjusted during training to reduce errors. Learning algorithms optimize these weights based on patterns in the data.\"\n",
    "\n",
    "# Calculate likelihood for each field\n",
    "likelihoods = {}\n",
    "for field in paragraphs:\n",
    "    likelihoods[field] = calculate_log_likelihood(unclassified_paragraph, field)\n",
    "\n",
    "# Determine the most probable classification\n",
    "most_probable_field = max(likelihoods, key=likelihoods.get)\n",
    "\n",
    "# Identify key words influencing the classification\n",
    "key_words = [word for word in preprocess(unclassified_paragraph) if word in relative_frequencies[most_probable_field]]\n",
    "\n",
    "print(\"Likelihoods:\", likelihoods)\n",
    "print(\"Most Probable Field:\", most_probable_field)\n",
    "print(\"Key Words:\", key_words)"
   ]
  },
  {
   "cell_type": "code",
   "execution_count": null,
   "metadata": {},
   "outputs": [],
   "source": []
  }
 ],
 "metadata": {
  "kernelspec": {
   "display_name": "env",
   "language": "python",
   "name": "python3"
  },
  "language_info": {
   "codemirror_mode": {
    "name": "ipython",
    "version": 3
   },
   "file_extension": ".py",
   "mimetype": "text/x-python",
   "name": "python",
   "nbconvert_exporter": "python",
   "pygments_lexer": "ipython3",
   "version": "3.13.2"
  }
 },
 "nbformat": 4,
 "nbformat_minor": 2
}
